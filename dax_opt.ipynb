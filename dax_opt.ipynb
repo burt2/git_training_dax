{
 "cells": [
  {
   "cell_type": "code",
   "execution_count": 2,
   "metadata": {},
   "outputs": [
    {
     "name": "stdout",
     "output_type": "stream",
     "text": [
      "2014     9800.03\n",
      "2015    10743.01\n",
      "2016    11481.06\n",
      "2017    12917.64\n",
      "2018    10858.68\n",
      "2019    13249.01\n",
      "2020    13718.78\n",
      "2021    15835.09\n",
      "2022    13923.59\n",
      "dtype: float64\n"
     ]
    }
   ],
   "source": [
    "import pandas as pd\n",
    "import json\n",
    "\n",
    "# Laden der JSON-Daten aus der Datei\n",
    "with open('dax_opt.json', 'r') as file:\n",
    "    dax_data = json.load(file)\n",
    "\n",
    "# Erstellen der Series\n",
    "dax_series = pd.Series(\n",
    "    {item['year']: item['value'] for item in dax_data['DAX_Values']}\n",
    ")\n",
    "\n",
    "# Ausgabe der Series\n",
    "print(dax_series)\n"
   ]
  }
 ],
 "metadata": {
  "kernelspec": {
   "display_name": "Python 3",
   "language": "python",
   "name": "python3"
  },
  "language_info": {
   "codemirror_mode": {
    "name": "ipython",
    "version": 3
   },
   "file_extension": ".py",
   "mimetype": "text/x-python",
   "name": "python",
   "nbconvert_exporter": "python",
   "pygments_lexer": "ipython3",
   "version": "3.12.5"
  }
 },
 "nbformat": 4,
 "nbformat_minor": 2
}
